{
 "cells": [
  {
   "cell_type": "markdown",
   "metadata": {},
   "source": [
    "# Capes 2019\n",
    "\n",
    "Le sujet est ici : [EP1_Info_2019.pdf][1]\n",
    "\n",
    "## Problème 1 : base 3 équilibrée\n",
    "\n",
    "### PARTIE I --- Généralités\n",
    "\n",
    "#### Question 1\n",
    "\n",
    "##### 1a\n",
    "\n",
    "- $\\overline{1(-1)0(-1)}_e = 1 * 3^3 + -1 * 3^2 + 0 * 3 - 1 = 17$\n",
    "- $\\overline{1111}_e = 1 * 3^3 + 1 * 3^2 + 1 * 3 + 1 = 40$\n",
    "- $\\overline{1(-1)(-1)(-1)(-1)}_e = 3^4 - 3^3 - 3^2 - 3 - 1 = 41$\n",
    "\n",
    "##### 1b\n",
    "\n",
    "| base 10 | base e     | Explication |\n",
    "| ------- | ------     | ----------- |\n",
    "| 1       | 1          | = 1         |\n",
    "| 2       | 1(-1)      | = 3 - 1     |\n",
    "| 3       | 10         | = 3         |\n",
    "| 4       | 11         | = 3 + 1     |\n",
    "| 5       | 1(-1)(-1)  | = 9 - 3 - 1 |\n",
    "| 6       | 1(-1)0     | = 9 - 3     |\n",
    "| 7       | 1(-1)1     | = 9 - 3 + 1 |\n",
    "| 8       | 10(-1)     | = 9 - 1     |\n",
    "| 9       | 100        | = 9         |\n",
    "\n",
    "\n",
    "#### Question 2\n",
    "\n",
    "- $A_k = \\overline{1 1...1}_e = 3^k + 3^{k-1} + ... + 3 + 1$\n",
    "- $B_k = \\overline{1(-1)...(-1)}_e = 3^k - 3^{k-1} - ... - 3 - 1$\n",
    "\n",
    "#### Question 3\n",
    "\n",
    "On modéliser par la liste $[a_{p-1}, ... a_1, a_0]$ le nombre $\\overline{a_0a_1...a_{p-1}}_e$. Définir `valeur(L)`\n",
    "\n",
    "\n",
    "[1]:http://www4.ac-nancy-metz.fr/capesmath/data/uploads/EP1_info_2019.pdf"
   ]
  },
  {
   "cell_type": "code",
   "execution_count": 4,
   "metadata": {},
   "outputs": [],
   "source": [
    "def valeur(L):\n",
    "    return sum(a * 3 ** index for index, a in enumerate(L))"
   ]
  },
  {
   "cell_type": "code",
   "execution_count": 6,
   "metadata": {},
   "outputs": [
    {
     "data": {
      "text/plain": [
       "46"
      ]
     },
     "execution_count": 6,
     "metadata": {},
     "output_type": "execute_result"
    }
   ],
   "source": [
    "valeur([1, 0, -1, -1, 1])"
   ]
  },
  {
   "cell_type": "markdown",
   "metadata": {},
   "source": [
    "### PARTIE II --- Existence et unicité\n",
    "\n",
    "#### Question 4\n",
    "\n",
    "##### 4a\n",
    "\n",
    "On suppose qu'un entier n est tel que : n = 3q + r et q s'écrit $\\overline{a_0...a_{p-1}}_e$. Dès lors n s'écrit : \n",
    "\n",
    "- r = 0 : $\\overline{a_0...a_{p-1}0}_e$\n",
    "- r = 1 : $\\overline{a_0...a_{p-1}1}_e$\n",
    "\n",
    "##### 4b\n",
    "\n",
    "On suppose que q > 0 et q + 1 s'écrit $\\overline{b_0...b_{p-1}}_e$. Dès lors si r = 2, n = 3(q + 1) + 2 - 3 = 3(q + 1) - 1 et donc s'écrit $\\overline{b_0...b_{p-1}(-1)}_e$\n",
    "\n",
    "##### 4c\n",
    "\n",
    "Montrons que : pour tout n ≥ 0, n admet une écriture en base 3 équilibrée.\n",
    "\n",
    "- D'après 1b il existe n0 ≥ 0 tel que pour tout n < n0, n s'écrit en base 3 équilibrée (HR)\n",
    "- Voyons pour n + 1 :\n",
    "    1. si n = 3q alors n + 1 vaut 3q + 1... et q admet une écriture en e (HR) et donc d'après 4a n + 1 aussi\n",
    "    2. si n = 3q + 1 alors n + 1 vaut 3q + 2 mais q étant non nul et q + 1 admettant une écriture (HR) et donc d'après 4b n + 1 aussi.\n",
    "    3. si n = 3q + 2 alors n + 1 vaut 3(q + 1) et toujours par (HR) et 4a n + 1 a une écriture en base 3 équilibrée.\n",
    "\n",
    "#### Question 5\n",
    "\n",
    "##### 5a\n",
    "\n",
    "Définition récursive de `incrementeR(L)` :"
   ]
  },
  {
   "cell_type": "code",
   "execution_count": 8,
   "metadata": {},
   "outputs": [],
   "source": [
    "def incrementeR(L):\n",
    "    if len(L) == 0:\n",
    "        return [1]\n",
    "    elif L[0] == 0:\n",
    "        return [1] + L[1:]\n",
    "    elif L[0] == -1:\n",
    "        return [0] + L[1:]\n",
    "    else:\n",
    "        return [-1] + incrementeR(L[1:])"
   ]
  },
  {
   "cell_type": "markdown",
   "metadata": {},
   "source": [
    "Explication de la ligne 9 : On est dans le cas où n = n' + 1 (`L[0] vaut 1`) représenté par `L` alors `L[1:]` est un décalage à gauche de n' et donc représente n'/3. L'appel récursif représente donc n'/3 + 1 et en redécalant à droite on a 3*(n'/3 + 1) soit n' + 3 et en ajoutant -1 on obtient n' + 2 soit n + 1.\n",
    "\n",
    "Les lignes 1 et 2 (de l'énoncé, 2 et 3 dans ce notebook) sont là pour le cas terminal : à chaque appel récursif, la longueur de L diminue strictement de 1. En partant d'une liste non vide on finira par tomber sur le cas `len(L) == 0`. \n",
    "\n",
    "##### 5b\n",
    "\n",
    "Version non récursive :"
   ]
  },
  {
   "cell_type": "code",
   "execution_count": 12,
   "metadata": {},
   "outputs": [],
   "source": [
    "def incremente(L):\n",
    "    p = len(L)\n",
    "    M = []\n",
    "    k = 0\n",
    "    while k < p and L[k] == 1:\n",
    "        M.append(-1)\n",
    "        k += 1\n",
    "    if k == p:\n",
    "        M.append(-1)\n",
    "    elif L[k] == 0:\n",
    "        M.append(1)\n",
    "        M = M + L[k+1:] \n",
    "    elif L[k] == -1:\n",
    "        M.append(0)\n",
    "        M = M + L[k+1:]\n",
    "    return M"
   ]
  },
  {
   "cell_type": "code",
   "execution_count": 13,
   "metadata": {},
   "outputs": [
    {
     "data": {
      "text/plain": [
       "47"
      ]
     },
     "execution_count": 13,
     "metadata": {},
     "output_type": "execute_result"
    }
   ],
   "source": [
    "L46 = [1, 0, -1, -1, 1]\n",
    "valeur(incremente(L46)) "
   ]
  },
  {
   "cell_type": "code",
   "execution_count": 14,
   "metadata": {},
   "outputs": [
    {
     "data": {
      "text/plain": [
       "10"
      ]
     },
     "execution_count": 14,
     "metadata": {},
     "output_type": "execute_result"
    }
   ],
   "source": [
    "L9 = [0,0,1]\n",
    "valeur(incremente(L9))"
   ]
  },
  {
   "cell_type": "markdown",
   "metadata": {},
   "source": [
    "#### Question 6\n",
    "\n",
    "Montrer l'unicité.\n",
    "\n",
    "##### 6a\n",
    "\n",
    "Si C s'écrit $\\overline{a_0...a_{p-1}}_e$ avec $a_0 = 1$ alors `C % 3` vaut 1.\n",
    "\n",
    "##### 6b\n",
    "\n",
    "De même si C = 3q alors a0 vaut 0 et si C = 3q + 2 alors a0 vaut -1. Ceci suffit à prouver l'unicité de l'écriture.\n",
    "\n",
    "#### Question 7\n",
    "\n",
    "Définition de la fonction `base3e`"
   ]
  },
  {
   "cell_type": "code",
   "execution_count": 2,
   "metadata": {},
   "outputs": [],
   "source": [
    "def base3e(n):\n",
    "    chiffres = [0,1,-1]\n",
    "    ajout = [0, 0, 1]\n",
    "    L = []\n",
    "    while n > 0:\n",
    "        reste = n % 3\n",
    "        L.append(chiffres[reste])\n",
    "        n = n // 3 + ajout[reste]\n",
    "    return L"
   ]
  },
  {
   "cell_type": "markdown",
   "metadata": {},
   "source": [
    "### PARTIE III --- Les chemins de Delannoy\n",
    "\n",
    "#### Question 8\n",
    "\n",
    "##### 8a\n",
    "\n",
    "Chemin de 2019 : $2019 = \\overline{10(-1)10(-1)10}_e$\n",
    "\n",
    "![chemin de Delannoy pour 2019](ressources/delannoy2019.jpg)\n",
    "\n",
    "##### 8b\n",
    "\n",
    "Définir une fonction arrivee(n) qui donne les coordonnées du point d'arrivée du chemin de Delannoy associé à l'entier n."
   ]
  },
  {
   "cell_type": "code",
   "execution_count": 2,
   "metadata": {},
   "outputs": [],
   "source": [
    "def arrivee(n):\n",
    "    \n",
    "    def add(a, b):\n",
    "        return a[0]+b[0], a[1]+b[1]\n",
    "    \n",
    "    steps = [(1,1), (1,0), (0,1)]\n",
    "    ajout = [0, 0, 1]\n",
    "    pt_arr = (0, 0)\n",
    "    while n > 1: # ici 1 pour nepas prendre en compte le 1er 1\n",
    "        reste = n % 3\n",
    "        pt_arr = add(pt_arr, steps[reste])\n",
    "        n = n // 3 + ajout[reste]\n",
    "    return pt_arr"
   ]
  },
  {
   "cell_type": "code",
   "execution_count": 3,
   "metadata": {},
   "outputs": [
    {
     "name": "stdout",
     "output_type": "stream",
     "text": [
      "(2, 3)\n",
      "(3, 3)\n",
      "(5, 5)\n"
     ]
    }
   ],
   "source": [
    "print(arrivee(46))\n",
    "print(arrivee(107))\n",
    "print(arrivee(2019))"
   ]
  },
  {
   "cell_type": "markdown",
   "metadata": {},
   "source": [
    "#### Question 9\n",
    "\n",
    "`N(a, b) = { n | arrivee(n) == (a, b) }`\n",
    "\n",
    "##### 9a\n",
    "\n",
    "Le min de N(a, a) pour a consiste à avoir le chemin le plus court jusqu'à A(a, a). Donc $\\overline{10...0}_e$ Avec a zéros. Ce qui nous donne l'entier $3^a$\n",
    "Pour le max on va maximiser les puissances de 3... donc $\\overline{11...1(-1)...(-1)}_e$ (il y a $a$ digit `1` et $a$ digit `-1` pour un entier égal à $3^{2a} + 3^{2a-1} + ... + 3^a - 3^{a-1} - ... - 3 - 1$ \n",
    "\n",
    "##### 9b\n",
    "\n",
    "Pour le max N(a, b) avec a < b, ça ne change pas : $\\overline{11...1(-1)...(-1)}_e$ avec $a$ digits `1` et $b$ digits `-1` pour le minimun : min N(a, b) = $\\overline{10...0(-1)...(-1)}_e$ avec $a$ digits `0` et $b$ digits `-1` \n",
    "\n",
    "\n"
   ]
  },
  {
   "cell_type": "markdown",
   "metadata": {},
   "source": [
    "## Problème 2 : compilation et algorithmes\n",
    "\n",
    "### PARTIE A --- Ordre topologique sur un graphe\n",
    "\n",
    "blabla... voir l'énoncé.\n"
   ]
  },
  {
   "cell_type": "code",
   "execution_count": 46,
   "metadata": {},
   "outputs": [],
   "source": [
    "# Un exemple\n",
    "\n",
    "N = 9\n",
    "App = [True, True, False, True, True, True, True, True, True]\n",
    "P = 8\n",
    "Succ = [[1], [], [], [6], [0], [3], [0], [4], [0, 1, 7]];\n",
    "G = [App, Succ, P]"
   ]
  },
  {
   "cell_type": "markdown",
   "metadata": {},
   "source": [
    "#### Question 10\n"
   ]
  },
  {
   "cell_type": "code",
   "execution_count": 43,
   "metadata": {},
   "outputs": [],
   "source": [
    "def mem(i, g):\n",
    "    \"\"\"retourne True si le sommet numéro i est dans le graphe représenté par g\"\"\"\n",
    "    return g[0][i]"
   ]
  },
  {
   "cell_type": "markdown",
   "metadata": {},
   "source": [
    "#### Question 11\n"
   ]
  },
  {
   "cell_type": "code",
   "execution_count": 47,
   "metadata": {},
   "outputs": [],
   "source": [
    "def pred(i, g):\n",
    "    \"\"\"retourne la liste des sommets j tels que j->i est présent dans le graphe g.\"\"\"\n",
    "    return [j for j in range(N) if mem(j, g) and i in g[1][j]]\n",
    "    "
   ]
  },
  {
   "cell_type": "code",
   "execution_count": 50,
   "metadata": {},
   "outputs": [
    {
     "data": {
      "text/plain": [
       "[4, 6, 8]"
      ]
     },
     "execution_count": 50,
     "metadata": {},
     "output_type": "execute_result"
    }
   ],
   "source": [
    "pred(0, G)"
   ]
  },
  {
   "cell_type": "markdown",
   "metadata": {},
   "source": [
    "#### Question 12\n"
   ]
  },
  {
   "cell_type": "code",
   "execution_count": 51,
   "metadata": {},
   "outputs": [],
   "source": [
    "def sansSuccesseur(g):\n",
    "    \"\"\"retourne un numéro i tel que Mi n'a pas de successeur\n",
    "    ou -1 si un tel sommet n'existe pas dans le graphe g\"\"\"\n",
    "    for i in range(N):\n",
    "        if mem(i, g) and g[1][i] == []:\n",
    "            return i\n",
    "    return -1"
   ]
  },
  {
   "cell_type": "code",
   "execution_count": 52,
   "metadata": {},
   "outputs": [
    {
     "data": {
      "text/plain": [
       "1"
      ]
     },
     "execution_count": 52,
     "metadata": {},
     "output_type": "execute_result"
    }
   ],
   "source": [
    "sansSuccesseur(G)"
   ]
  },
  {
   "cell_type": "markdown",
   "metadata": {},
   "source": [
    "#### Question 13\n"
   ]
  },
  {
   "cell_type": "code",
   "execution_count": 53,
   "metadata": {},
   "outputs": [],
   "source": [
    "import copy\n",
    "\n",
    "def suppr(i, g):\n",
    "    \"\"\"crée une copie de g privé du sommet i et des arcs qui s'y réfèrent\"\"\"\n",
    "    h = copy.deepcopy(g)\n",
    "    h[2] -= 1\n",
    "    h[0][i] = False\n",
    "    h[1][i] = []\n",
    "    for j in range(N):\n",
    "        if mem(j, h) and i in h[1][j]:\n",
    "            h[1][j].remove(i)\n",
    "    return h"
   ]
  },
  {
   "cell_type": "markdown",
   "metadata": {},
   "source": [
    "#### Question 14\n",
    "\n",
    "On considère un graphe G de p sommets, p ≤ N.\n",
    "\n",
    "##### 14a\n",
    "\n",
    "Promenade : s0s1...sN... on a donc N+1 sommets supposons que les sommets soient tous différents alors p = N+1 ce qui contredit l'hypothèse.\n",
    "\n",
    "##### 14b\n",
    "\n",
    "Encore une fois par l'absurde : si on suppose que le graphe ne possède pas de cycle, alors à chaque pas de s_i vars s_j on est sur un sommet non déjà visité. Mais alors cela signifie qu'à la fin de la promenade on a N+1 sommets distincts ce qui contredit 14a.\n",
    "\n",
    "##### 14c\n",
    "\n",
    "D'après 14b, soit si0,si1...sik=si0 le cycle. Supposons qu'il existe un ordre topologique N. Alors par définition à la fois de l'ordre et de la promenade, on a : N(si0) < N(si1) < ... < N(sik) = N(si0) ce qui n'est pas possible. Il n'existe donc pas d'ordre topologique sur ce graphe.\n",
    "\n",
    "\n",
    "#### Question 15\n",
    "\n",
    "Soit s1 et s2 deux sommets de G. Si s1 et s2 ne sont pas s alors si s1 est successeur de s2 on aura NH(s2) < NH(s1) et donc N(s2) < N(s1) et inversement donc N vérifie bien la condition d'ordre topo.\n",
    "\n",
    "Si maintenant s2 == s, alors comme s n'a pas de successeur, s2 ne peut pas être le successeur de s. S peut être le successeur de s2. Dès lors, N(s2) = NH(s2) ≤ p - 2 < p - 1 = N(s). La encore la contrainte est vérifiée. N est donc bien un ordre topo sur G.\n",
    "\n",
    "#### Question 16\n",
    "\n",
    "##### 16a\n",
    "\n",
    "On en déduit un algorithme pour trouver un ordre topo (quand il existe)"
   ]
  },
  {
   "cell_type": "code",
   "execution_count": 55,
   "metadata": {},
   "outputs": [],
   "source": [
    "def ordreTopologique(g):\n",
    "    \"\"\"retourne une liste L telle que L[i] vaut N(i) \n",
    "    si N existe et None sinon\"\"\"\n",
    "    n = len(g[0])\n",
    "    L = [-1] * n\n",
    "    \n",
    "    def parcoursReussi(g):\n",
    "        p = g[2]\n",
    "        if p != 0:\n",
    "            s = sansSuccesseur(g)\n",
    "            if s == -1:\n",
    "                return False\n",
    "            else:\n",
    "                L[s] = p\n",
    "                return parcoursReussi(suppr(s, g))\n",
    "        else:\n",
    "            return True\n",
    "    \n",
    "    b = parcoursReussi(g)\n",
    "    if b:\n",
    "        return L\n",
    "    else:\n",
    "        return None\n",
    "    "
   ]
  },
  {
   "cell_type": "markdown",
   "metadata": {},
   "source": [
    "##### 16b\n",
    "\n",
    "La seule fonction succeptible de boucler est `parcoursReussi` qui est récursive. Mais si p vaut 0 ou si on ne trouve pas de noeud sans successeur, ça termine. L'appel recursif se fait avec un graphe qui possède un de noeud de moins. On tombera donc sur un des deux cas : plus de noeud ou plus de noeud sans successeur."
   ]
  },
  {
   "cell_type": "code",
   "execution_count": 56,
   "metadata": {},
   "outputs": [],
   "source": [
    "N = ordreTopologique(G)"
   ]
  },
  {
   "cell_type": "code",
   "execution_count": 57,
   "metadata": {},
   "outputs": [
    {
     "data": {
      "text/plain": [
       "[7, 8, -1, 4, 6, 3, 5, 2, 1]"
      ]
     },
     "execution_count": 57,
     "metadata": {},
     "output_type": "execute_result"
    }
   ],
   "source": [
    "N"
   ]
  },
  {
   "cell_type": "markdown",
   "metadata": {},
   "source": [
    "### PARTIE B --- Allocation de registres\n",
    "\n",
    "#### Question 17\n",
    "\n",
    "ligne | a | b | c | d |\n",
    "----- |---|---|---|---|\n",
    " 0    | M | M | M | M |\n",
    " 1    | M | M | M | V |\n",
    " 2    | M | V | M | M |\n",
    " 3    | V | V | M | M |\n",
    " 4    | V | V | M | V |\n",
    " 5    | V | V | M | M |\n",
    " 6    | V | V | V | M |\n",
    " 7    | V | V | V | M |\n",
    " 8    | V | M | V | V |\n",
    " 9    | M | M | V | V |\n",
    " \n",
    " \n",
    " #### Question 18\n",
    " \n",
    " Une variable vivante en ligne 0 signifie qu'elle est utilisée sans avoir été initialisée. Non le programme ne serait pas exécutable.\n",
    " \n",
    "#### Question 19\n"
   ]
  },
  {
   "cell_type": "code",
   "execution_count": 1,
   "metadata": {},
   "outputs": [],
   "source": [
    "\"\"\"\n",
    "PROG_EX:\n",
    "0: d=1 \n",
    "1: b=2∗d \n",
    "2: a=3 \n",
    "3: d=a∗b \n",
    "4: print(d) \n",
    "5: c=2∗a−b \n",
    "6: print(a) \n",
    "7: d=c+b \n",
    "8: b=2∗a \n",
    "9: print(c,d)\n",
    "\"\"\"\n",
    "\n",
    "PROG_EX = [(3,[]), (1,[3]), (0,[]), (3,[0,1]), (None ,[3]), (2,[0,1]), (None ,[0]), (3,[1,2]), (1,[0]), (None ,[2,3])]\n",
    "\n",
    "def determineVie(prog, p):\n",
    "    nb_instructions = len(prog)\n",
    "    vie = [[False] * p for _ in range(nb_instructions+1)]\n",
    "    for index in range(nb_instructions - 1, -1, -1):\n",
    "        left, variables = prog[index]\n",
    "        for v in range(p):\n",
    "            if v in variables:\n",
    "                vie[index][v] = True\n",
    "            else:\n",
    "                vie[index][v] = vie[index+1][v]\n",
    "        if left is not None:\n",
    "            vie[index][left] = left in variables\n",
    "    return vie[:-1]\n",
    "            "
   ]
  },
  {
   "cell_type": "code",
   "execution_count": 3,
   "metadata": {},
   "outputs": [
    {
     "name": "stdout",
     "output_type": "stream",
     "text": [
      "[False, False, False, False]\n",
      "[False, False, False, True]\n",
      "[False, True, False, False]\n",
      "[True, True, False, False]\n",
      "[True, True, False, True]\n",
      "[True, True, False, False]\n",
      "[True, True, True, False]\n",
      "[True, True, True, False]\n",
      "[True, False, True, True]\n",
      "[False, False, True, True]\n"
     ]
    }
   ],
   "source": [
    "\"\"\"\n",
    "ligne | a | b | c | d |\n",
    "----- |---|---|---|---|\n",
    " 0    | M | M | M | M |\n",
    " 1    | M | M | M | V |\n",
    " 2    | M | V | M | M |\n",
    " 3    | V | V | M | M |\n",
    " 4    | V | V | M | V |\n",
    " 5    | V | V | M | M |\n",
    " 6    | V | V | V | M |\n",
    " 7    | V | V | V | M |\n",
    " 8    | V | M | V | V |\n",
    " 9    | M | M | V | V |\n",
    " \"\"\"\n",
    "VIE_EX = determineVie(PROG_EX, 4)\n",
    "for line in VIE_EX:\n",
    "    print(line)"
   ]
  },
  {
   "cell_type": "markdown",
   "metadata": {},
   "source": [
    "#### Question 20\n"
   ]
  },
  {
   "cell_type": "code",
   "execution_count": 71,
   "metadata": {},
   "outputs": [],
   "source": [
    "def periodesVie(vie, v):\n",
    "    n = len(vie)\n",
    "    periodes = []\n",
    "    enCours = False\n",
    "    i = n - 1\n",
    "    while i >= 0:\n",
    "        if vie[i][v]:\n",
    "            if not enCours:\n",
    "                periode = (i,)\n",
    "                enCours = True\n",
    "        else:\n",
    "            if enCours:\n",
    "                periode = (i,) + periode\n",
    "                enCours = False\n",
    "                periodes.append(periode)\n",
    "        i -= 1\n",
    "    return periodes"
   ]
  },
  {
   "cell_type": "code",
   "execution_count": 72,
   "metadata": {},
   "outputs": [
    {
     "data": {
      "text/plain": [
       "[(7, 9), (3, 4), (0, 1)]"
      ]
     },
     "execution_count": 72,
     "metadata": {},
     "output_type": "execute_result"
    }
   ],
   "source": [
    "periodesVie(VIE_EX, 3)"
   ]
  },
  {
   "cell_type": "markdown",
   "metadata": {},
   "source": [
    "### PARTIE C --- Graphe de coexistence\n",
    "\n",
    "#### Question 21\n",
    "\n",
    "- Un problème de décision (de la forme existe-t-il... ?) est dit **dans la classe NP** s'il existe un algorithme en temps polynomial pour vérifier qu'une solution donnée en est une.\n",
    "\n",
    "- Un problème est **NP-complet** si tout problème de la classe NP se ramène à celui-là par une réduction polynomiale."
   ]
  },
  {
   "cell_type": "code",
   "execution_count": 74,
   "metadata": {},
   "outputs": [],
   "source": [
    "COLORS = ['bleu', 'rouge', 'vert']\n",
    "G_EX = [[], [2, 3, 4], [1, 4, 5], [1], [1, 2, 5], [2, 4]]\n",
    "COLOR_EX = [0, 0, 1, 1, 2, 0] "
   ]
  },
  {
   "cell_type": "markdown",
   "metadata": {},
   "source": [
    "#### Question 22\n"
   ]
  },
  {
   "cell_type": "code",
   "execution_count": 75,
   "metadata": {},
   "outputs": [],
   "source": [
    "def bonnesCouleurs(g, couleurs):\n",
    "    \"\"\"retourne True si et seulement si couleurs est une coloration correcte\n",
    "    des sommets de g ie que tous les sommets de g sont bien coloriés.\"\"\"\n",
    "    \n",
    "    def sommet_bien_colorie(s):\n",
    "        # un sommet s est bien colorié s'il n'a pas la même couleur que ses voisins\n",
    "        # autrement dit : si tous ses voisins ont une couleur différente\n",
    "        return all(couleurs[s] != couleurs[v] for v in g[s])\n",
    "    \n",
    "    return all(sommet_bien_colorie(s) for s in range(len(g)))"
   ]
  },
  {
   "cell_type": "code",
   "execution_count": 76,
   "metadata": {},
   "outputs": [
    {
     "data": {
      "text/plain": [
       "True"
      ]
     },
     "execution_count": 76,
     "metadata": {},
     "output_type": "execute_result"
    }
   ],
   "source": [
    "bonnesCouleurs(G_EX, COLOR_EX)"
   ]
  },
  {
   "cell_type": "markdown",
   "metadata": {},
   "source": [
    "#### Question 23\n",
    "\n",
    "Un algorithme pour trouver une bonne coloration (aucune garantie sur la minimalité de cette coloration) :\n",
    "\n",
    "1. choisir la première couleur disponible ;\n",
    "2. tant qu’il existe un sommet non colorié répéter les étapes 3 à 6 :\n",
    "3. choisir un sommet s non colorié, et le colorier avec la couleur courante ;\n",
    "4. répéter l’étape 5 pour tout sommet t non colorié ;\n",
    "5. si t n’est adjacent à aucun sommet colorié avec la couleur courante, le colorier avec la couleur courante ; \n",
    "6. choisir une nouvelle couleur ;\n",
    "7. fin de l’algorithme."
   ]
  },
  {
   "cell_type": "code",
   "execution_count": 77,
   "metadata": {},
   "outputs": [],
   "source": [
    "def coloriage(g):\n",
    "    nb_sommets = len(g)\n",
    "    une_couleur = 0\n",
    "    couleurs = [None] * nb_sommets\n",
    "    s_non_colories = list(range(nb_sommets))\n",
    "    while s_non_colories:\n",
    "        s = s_non_colories.pop() \n",
    "        couleurs[s] = une_couleur\n",
    "        for t in s_non_colories[:]:\n",
    "            if coloriable(g[t], couleurs, une_couleur):\n",
    "                couleurs[t] = une_couleur\n",
    "                s_non_colories.remove(t)\n",
    "        une_couleur += 1\n",
    "    return couleurs\n",
    "        \n",
    "        \n",
    "def coloriable(voisins, couleurs, c):\n",
    "    return all(couleurs[v] != c for v in voisins)"
   ]
  },
  {
   "cell_type": "code",
   "execution_count": 78,
   "metadata": {},
   "outputs": [
    {
     "data": {
      "text/plain": [
       "[0, 0, 2, 1, 1, 0]"
      ]
     },
     "execution_count": 78,
     "metadata": {},
     "output_type": "execute_result"
    }
   ],
   "source": [
    "coloriage(G_EX)"
   ]
  }
 ],
 "metadata": {
  "kernelspec": {
   "display_name": "Python 3",
   "language": "python",
   "name": "python3"
  },
  "language_info": {
   "codemirror_mode": {
    "name": "ipython",
    "version": 3
   },
   "file_extension": ".py",
   "mimetype": "text/x-python",
   "name": "python",
   "nbconvert_exporter": "python",
   "pygments_lexer": "ipython3",
   "version": "3.7.0"
  }
 },
 "nbformat": 4,
 "nbformat_minor": 2
}
